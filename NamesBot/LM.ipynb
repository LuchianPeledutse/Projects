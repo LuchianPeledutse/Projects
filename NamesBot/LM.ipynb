{
 "cells": [
  {
   "cell_type": "code",
   "execution_count": 972,
   "id": "591a697a",
   "metadata": {},
   "outputs": [],
   "source": [
    "from tqdm import tqdm\n",
    "import matplotlib.pyplot as plt\n",
    "from tokenizers import Tokenizer\n",
    "from torch.distributions import Categorical\n",
    "from torch.utils.data import DataLoader, Dataset\n",
    "from transformers import PreTrainedTokenizerFast\n",
    "\n",
    "import os\n",
    "import re\n",
    "import glob\n",
    "import torch\n",
    "import string\n",
    "import tokenizers\n",
    "import unicodedata\n",
    "import numpy as np\n",
    "import torch.nn as nn"
   ]
  },
  {
   "cell_type": "code",
   "execution_count": 2,
   "id": "5ecd3d6c",
   "metadata": {},
   "outputs": [
    {
     "name": "stdout",
     "output_type": "stream",
     "text": [
      "59\n",
      "abcdefghijklmnopqrstuvwxyzABCDEFGHIJKLMNOPQRSTUVWXYZ.,;'-\n"
     ]
    }
   ],
   "source": [
    "#regular ASCII letters\n",
    "all_letters = string.ascii_letters + \".,;'-\"\n",
    "n_letters = len(all_letters) + 2 #for the EOS and SOS (not including tags of languages)\n",
    "print(n_letters)\n",
    "print(all_letters)"
   ]
  },
  {
   "cell_type": "markdown",
   "id": "c8d54cc4",
   "metadata": {},
   "source": [
    "<b> Preparing data </b>"
   ]
  },
  {
   "cell_type": "code",
   "execution_count": 3,
   "id": "4ca196c7",
   "metadata": {},
   "outputs": [
    {
     "name": "stdout",
     "output_type": "stream",
     "text": [
      "Number of categories is 18\n",
      "Number of key-values in dictionary: 18\n"
     ]
    }
   ],
   "source": [
    "#functions needed for loading data\n",
    "def findFiles(path):\n",
    "    return glob.glob(path)\n",
    "\n",
    "#turn a unicode letter to ASCII (so that it is more simple in appearence)\n",
    "def unicodeToAscii(s):\n",
    "    return ''.join(\n",
    "        c for c in unicodedata.normalize('NFD', s)\n",
    "        if unicodedata.category(c) != 'Mn'\n",
    "        and c in all_letters\n",
    "    )\n",
    "\n",
    "#read all the names from a file of some category and simplify them\n",
    "def readlines(filename):\n",
    "    \"\"\"returns a list with simplified (ASCII) names of a particular category\"\"\"\n",
    "    with open(filename, encoding = 'utf-8') as category_file:\n",
    "        output = [unicodeToAscii(line.strip()) for line in category_file]\n",
    "    return output\n",
    "\n",
    "#create a dictionary that has the form of category:List[names]\n",
    "category_names = {}\n",
    "all_categories = []\n",
    "\n",
    "#iterating over the files\n",
    "for filename in findFiles('/home/luchian/all_data/uni_data/data/names/*.txt'):\n",
    "    category = os.path.splitext(os.path.basename(filename))[0].lower()\n",
    "    all_categories.append(category)\n",
    "    lines = readlines(filename)\n",
    "    category_names[category] = lines\n",
    "\n",
    "n_categories = len(all_categories)\n",
    "print(f'Number of categories is {n_categories}')\n",
    "print(f'Number of key-values in dictionary: {len(category_names)}')"
   ]
  },
  {
   "cell_type": "code",
   "execution_count": 4,
   "id": "89a2a866",
   "metadata": {},
   "outputs": [
    {
     "name": "stdout",
     "output_type": "stream",
     "text": [
      "Some irish names:\n",
      "['Adam', 'Ahearn', 'Aodh']\n",
      "\n",
      "Some chinese names:\n",
      "['Ang', 'Au-Yong', 'Bai']\n",
      "\n",
      "Some scottish names:\n",
      "['Smith', 'Brown', 'Wilson']\n",
      "\n",
      "Some german names:\n",
      "['Abbing', 'Abel', 'Abeln']\n",
      "\n",
      "Some russian names:\n",
      "['Ababko', 'Abaev', 'Abagyan']\n",
      "\n",
      "Some greek names:\n",
      "['Adamidis', 'Adamou', 'Agelakos']\n",
      "\n",
      "Some portuguese names:\n",
      "['Abreu', 'Albuquerque', 'Almeida']\n",
      "\n",
      "Some korean names:\n",
      "['Ahn', 'Baik', 'Bang']\n",
      "\n",
      "Some dutch names:\n",
      "['Aalsburg', 'Aalst', 'Aarle']\n",
      "\n",
      "Some french names:\n",
      "['Abel', 'Abraham', 'Adam']\n",
      "\n",
      "Some spanish names:\n",
      "['Abana', 'Abano', 'Abarca']\n",
      "\n",
      "Some polish names:\n",
      "['Adamczak', 'Adamczyk', 'Andrysiak']\n",
      "\n",
      "Some japanese names:\n",
      "['Abe', 'Abukara', 'Adachi']\n",
      "\n",
      "Some czech names:\n",
      "['Abl', 'Adsit', 'Ajdrna']\n",
      "\n",
      "Some vietnamese names:\n",
      "['Nguyen', 'Tron', 'Le']\n",
      "\n",
      "Some arabic names:\n",
      "['Khoury', 'Nahas', 'Daher']\n",
      "\n",
      "Some italian names:\n",
      "['Abandonato', 'Abatangelo', 'Abatantuono']\n",
      "\n",
      "Some english names:\n",
      "['Abbas', 'Abbey', 'Abbott']\n",
      "\n"
     ]
    }
   ],
   "source": [
    "#print some of names for each category\n",
    "for cat_name in all_categories:\n",
    "    print(f'Some {cat_name} names:')\n",
    "    print(category_names[cat_name][:3],end = '\\n\\n')"
   ]
  },
  {
   "cell_type": "code",
   "execution_count": 5,
   "id": "bd66b32b",
   "metadata": {},
   "outputs": [
    {
     "data": {
      "text/plain": [
       "{'irish': 0,\n",
       " 'chinese': 1,\n",
       " 'scottish': 2,\n",
       " 'german': 3,\n",
       " 'russian': 4,\n",
       " 'greek': 5,\n",
       " 'portuguese': 6,\n",
       " 'korean': 7,\n",
       " 'dutch': 8,\n",
       " 'french': 9,\n",
       " 'spanish': 10,\n",
       " 'polish': 11,\n",
       " 'japanese': 12,\n",
       " 'czech': 13,\n",
       " 'vietnamese': 14,\n",
       " 'arabic': 15,\n",
       " 'italian': 16,\n",
       " 'english': 17}"
      ]
     },
     "execution_count": 5,
     "metadata": {},
     "output_type": "execute_result"
    }
   ],
   "source": [
    "cat_to_ind = {all_categories[ind]:ind for ind in range(len(all_categories))}\n",
    "cat_to_ind"
   ]
  },
  {
   "cell_type": "code",
   "execution_count": 6,
   "id": "9ce189e9",
   "metadata": {},
   "outputs": [],
   "source": [
    "#crating a generator for all the characters\n",
    "def get_characters():\n",
    "    for key in category_names:\n",
    "        for name in category_names[key]:\n",
    "            splitted = ' '.join(re.findall(r'.',name)).split()\n",
    "            for letter in splitted:\n",
    "                yield letter"
   ]
  },
  {
   "cell_type": "code",
   "execution_count": 7,
   "id": "d78be07d",
   "metadata": {},
   "outputs": [],
   "source": [
    "#creating a tokenizer\n",
    "tokenizer = Tokenizer(model = tokenizers.models.WordLevel())\n",
    "tokenizer.pre_tokenizer = tokenizers.pre_tokenizers.Whitespace()\n",
    "tok_trainer = tokenizers.trainers.WordLevelTrainer(vocab_size = 500_000,special_tokens = ['<pad>','<sos>','<eos>'] + ['<'+name+'>' for name in category_names])\n",
    "tokenizer.enable_padding(direction='right',pad_id = 0,pad_token='<pad>')\n",
    "tokenizer.train_from_iterator(get_characters(),trainer=tok_trainer)"
   ]
  },
  {
   "cell_type": "code",
   "execution_count": 8,
   "id": "9ec5309e",
   "metadata": {},
   "outputs": [],
   "source": [
    "tt = PreTrainedTokenizerFast(tokenizer_object = tokenizer)"
   ]
  },
  {
   "cell_type": "code",
   "execution_count": 9,
   "id": "69b72a46",
   "metadata": {},
   "outputs": [],
   "source": [
    "#processing of the name\n",
    "def processing(name):\n",
    "    return ' '.join(re.findall(r'.',name))"
   ]
  },
  {
   "cell_type": "code",
   "execution_count": 10,
   "id": "bb58c6dd",
   "metadata": {},
   "outputs": [
    {
     "name": "stdout",
     "output_type": "stream",
     "text": [
      "20074\n"
     ]
    },
    {
     "data": {
      "text/plain": [
       "[('irish', 'Adam'),\n",
       " ('irish', 'Ahearn'),\n",
       " ('irish', 'Aodh'),\n",
       " ('irish', 'Aodha'),\n",
       " ('irish', 'Aonghuis')]"
      ]
     },
     "execution_count": 10,
     "metadata": {},
     "output_type": "execute_result"
    }
   ],
   "source": [
    "#create convient dataset in the form List[(Category,Name)]\n",
    "main_dataset = [(cat,name) for cat in all_categories for name in category_names[cat]]\n",
    "print(len(main_dataset))\n",
    "main_dataset[:5]"
   ]
  },
  {
   "cell_type": "code",
   "execution_count": 163,
   "id": "613f881a",
   "metadata": {},
   "outputs": [],
   "source": [
    "class NamesDataset(Dataset):\n",
    "    def __init__(self,cat_with_names,tokenizer,processing,max_len):\n",
    "        self.data = cat_with_names\n",
    "        self.tokenizer = PreTrainedTokenizerFast(tokenizer_object = tokenizer)\n",
    "        self.processing = processing\n",
    "        self.max_length = max_len\n",
    "    \n",
    "    def __len__(self):\n",
    "        return len(self.data)\n",
    "    \n",
    "    def __getitem__(self, indx):\n",
    "        text,label = self.processing(self.data[indx][1]),self.data[indx][0]\n",
    "        tokenized_text = self.tokenizer(\n",
    "            text,\n",
    "            max_length = self.max_length,\n",
    "            padding = 'max_length',\n",
    "            return_tensors='pt',\n",
    "            truncation=True\n",
    "        )['input_ids']\n",
    "        #adding what is necessary\n",
    "        prefix = self.tokenizer('<'+label+'>', padding = 'do_not_pad', return_tensors='pt')['input_ids'].flatten()\n",
    "        tokenized_text = tokenized_text.squeeze(dim = 0)\n",
    "        tokenized_text = torch.cat([prefix,tokenized_text],dim = 0)\n",
    "        return tokenized_text,torch.cat([tokenized_text[1:],torch.tensor([self.tokenizer._tokenizer.token_to_id('<pad>')])])"
   ]
  },
  {
   "cell_type": "markdown",
   "id": "fe0045f4",
   "metadata": {},
   "source": [
    "<b> Creating network </b>"
   ]
  },
  {
   "cell_type": "code",
   "execution_count": 1702,
   "id": "99c05dd5",
   "metadata": {},
   "outputs": [],
   "source": [
    "class NamesGRU(nn.Module):\n",
    "    def __init__(self,vocab_size,embed_dim,hidden_size,seq_len = 16,num_layers = 1,drop_prob = 0.12,bf = False):\n",
    "        super().__init__()\n",
    "        self.vocab_size = vocab_size\n",
    "        self.seq_len = seq_len\n",
    "        self.embed = nn.Embedding(vocab_size,embed_dim,padding_idx=0)\n",
    "        self.rnn = nn.RNN(input_size = embed_dim,hidden_size = hidden_size,num_layers=num_layers,dropout=drop_prob,batch_first=bf)\n",
    "        self.linear = nn.Linear(num_layers*hidden_size,vocab_size) #edit linear layer accordingly\n",
    "\n",
    "    def forward(self,x):\n",
    "        #cheching shapes\n",
    "        y = self.embed(x)\n",
    "        y = y.transpose(0,1)\n",
    "        _,y = self.rnn(y)\n",
    "        y = y.transpose(0,1)\n",
    "        y = y.reshape(y.shape[0],-1)\n",
    "        y = self.linear(y)\n",
    "        return y"
   ]
  },
  {
   "cell_type": "code",
   "execution_count": 1703,
   "id": "a2d2d9c2",
   "metadata": {},
   "outputs": [],
   "source": [
    "class NamesGRU(nn.Module):\n",
    "    def __init__(self,vocab_size,embed_dim,hidden_size,seq_len = 16,num_layers = 1,drop_prob = 0.12,bf = False):\n",
    "        super().__init__()\n",
    "        self.vocab_size = vocab_size\n",
    "        self.seq_len = seq_len\n",
    "        self.embed = nn.Embedding(vocab_size,embed_dim,padding_idx=0)\n",
    "        self.rnn = nn.GRU(input_size = embed_dim,hidden_size = hidden_size,num_layers=num_layers,dropout=drop_prob,batch_first=bf)\n",
    "        self.linear = nn.Linear(num_layers*hidden_size,vocab_size) #edit linear layer accordingly\n",
    "\n",
    "    def forward(self,x):\n",
    "        #cheching shapes\n",
    "        y = self.embed(x)\n",
    "        y = y.transpose(0,1)\n",
    "        _,y = self.rnn(y)\n",
    "        y = y.transpose(0,1)\n",
    "        y = y.reshape(y.shape[0],-1)\n",
    "        y = self.linear(y)\n",
    "        return y"
   ]
  },
  {
   "cell_type": "code",
   "execution_count": 1721,
   "id": "8b03561d",
   "metadata": {},
   "outputs": [],
   "source": [
    "#preparation before training\n",
    "dataset = NamesDataset(main_dataset,tokenizer,processing=processing,max_len = 15)\n",
    "vocab_size = tokenizer.get_vocab_size()\n",
    "embed_dim = 25\n",
    "hidden_size = 75\n",
    "num_layers = 3\n",
    "drop_prob = 0.5"
   ]
  },
  {
   "cell_type": "code",
   "execution_count": 1722,
   "id": "8a2ae939",
   "metadata": {},
   "outputs": [],
   "source": [
    "#model\n",
    "names_rnn = NamesGRU(\n",
    "    vocab_size=vocab_size,\n",
    "    embed_dim=embed_dim,\n",
    "    hidden_size=hidden_size,\n",
    "    num_layers=num_layers,\n",
    "    drop_prob=drop_prob,\n",
    "    bf = True\n",
    ")"
   ]
  },
  {
   "cell_type": "code",
   "execution_count": 1725,
   "id": "c0c58759",
   "metadata": {},
   "outputs": [],
   "source": [
    "#training model\n",
    "epoch = 5\n",
    "lr = 0.001\n",
    "batch_size = 1\n",
    "loader = DataLoader(dataset = dataset,shuffle = True,batch_size = batch_size)\n",
    "optimizer = torch.optim.Adam(names_rnn.parameters(),lr = lr,betas=(0.9,0.989))\n",
    "criterion = nn.CrossEntropyLoss(reduction = 'mean',label_smoothing=0.005)"
   ]
  },
  {
   "cell_type": "code",
   "execution_count": 1726,
   "id": "72829c66",
   "metadata": {},
   "outputs": [],
   "source": [
    "def train_model(model,train_loader,epoch,main_optim,main_loss,print_every = 2):\n",
    "    try:\n",
    "        train_losses = []\n",
    "        for ep in range(epoch):\n",
    "            model.train()\n",
    "            epoch_losses = []\n",
    "            for X,y in tqdm(train_loader,desc=f'Going through the loader on epoch #{ep+1}'):\n",
    "                y = y.reshape(-1)\n",
    "                main_optim.zero_grad()\n",
    "                y_pred = model(X)\n",
    "                the_loss = main_loss(y_pred,y)\n",
    "                the_loss.backward()\n",
    "                main_optim.step()\n",
    "                epoch_losses.append(the_loss.item())\n",
    "            train_losses.append(round(np.array(epoch_losses).mean().item(),5))\n",
    "            if ep%print_every == 0:\n",
    "                print(f'Epoch #{ep+1} | Train loss: {train_losses[-1]}',end = '\\n\\n')\n",
    "        return train_losses\n",
    "    except KeyboardInterrupt:\n",
    "        return train_losses"
   ]
  },
  {
   "cell_type": "code",
   "execution_count": 1727,
   "id": "af5b7e1b",
   "metadata": {},
   "outputs": [
    {
     "name": "stderr",
     "output_type": "stream",
     "text": [
      "Going through the loader on epoch #1: 100%|██████████| 20074/20074 [00:56<00:00, 354.11it/s]\n"
     ]
    },
    {
     "name": "stdout",
     "output_type": "stream",
     "text": [
      "Epoch #1 | Train loss: 1.35568\n",
      "\n"
     ]
    },
    {
     "name": "stderr",
     "output_type": "stream",
     "text": [
      "Going through the loader on epoch #2: 100%|██████████| 20074/20074 [00:55<00:00, 361.36it/s]\n",
      "Going through the loader on epoch #3: 100%|██████████| 20074/20074 [00:55<00:00, 360.05it/s]\n"
     ]
    },
    {
     "name": "stdout",
     "output_type": "stream",
     "text": [
      "Epoch #3 | Train loss: 1.30291\n",
      "\n"
     ]
    },
    {
     "name": "stderr",
     "output_type": "stream",
     "text": [
      "Going through the loader on epoch #4: 100%|██████████| 20074/20074 [00:56<00:00, 355.36it/s]\n",
      "Going through the loader on epoch #5: 100%|██████████| 20074/20074 [00:55<00:00, 361.90it/s]"
     ]
    },
    {
     "name": "stdout",
     "output_type": "stream",
     "text": [
      "Epoch #5 | Train loss: 1.29988\n",
      "\n"
     ]
    },
    {
     "name": "stderr",
     "output_type": "stream",
     "text": [
      "\n"
     ]
    }
   ],
   "source": [
    "results = train_model(\n",
    "    model = names_rnn,\n",
    "    train_loader=loader,\n",
    "    epoch=epoch,\n",
    "    main_optim=optimizer,\n",
    "    main_loss=criterion,\n",
    "    print_every = 2\n",
    ")"
   ]
  },
  {
   "cell_type": "code",
   "execution_count": 1728,
   "id": "7bf7b2a8",
   "metadata": {},
   "outputs": [],
   "source": [
    "# torch.save(names_rnn.state_dict(),f = '/home/luchian/all_data/uni_data/MyModels/NAME_GEN_model.pth')"
   ]
  },
  {
   "cell_type": "code",
   "execution_count": 1729,
   "id": "f3a0839f",
   "metadata": {},
   "outputs": [
    {
     "data": {
      "text/plain": [
       "[<matplotlib.lines.Line2D at 0x7084f4598890>]"
      ]
     },
     "execution_count": 1729,
     "metadata": {},
     "output_type": "execute_result"
    },
    {
     "data": {
      "image/png": "[encoded data removed]",
      "text/plain": [
       "<Figure size 1000x500 with 1 Axes>"
      ]
     },
     "metadata": {},
     "output_type": "display_data"
    }
   ],
   "source": [
    "loss_figure = plt.figure(figsize = (10,5),facecolor = 'skyblue')\n",
    "loss_ax = loss_figure.add_subplot()\n",
    "loss_ax.plot(results,color= 'purple')"
   ]
  },
  {
   "cell_type": "code",
   "execution_count": 1730,
   "id": "ec5bb516",
   "metadata": {},
   "outputs": [],
   "source": [
    "def model_inf(model,language = 'russian',ft = dataset.tokenizer):\n",
    "    \"\"\"Creates a name of the given language\"\"\"\n",
    "    model.eval()\n",
    "    available_languages = all_categories\n",
    "    #check whether language is in available languages\n",
    "    if language not in available_languages:\n",
    "        raise ValueError('The language is not available')\n",
    "    #staring producing a name \n",
    "    current_letter_id = ft('<'+language+'>', padding = 'do_not_pad', return_tensors='pt')['input_ids']\n",
    "    name = ''\n",
    "    y_pred = model(current_letter_id).softmax(dim = 1)\n",
    "    y_pred = y_pred.squeeze(dim = 0)\n",
    "    while len(name) < 16:\n",
    "        #adding a letter\n",
    "        next_pred_ind = Categorical(probs=y_pred).sample([1]).item()\n",
    "        if next_pred_ind == 0:\n",
    "            break\n",
    "        name += ft._tokenizer.id_to_token(next_pred_ind)\n",
    "        #updating prediction\n",
    "        y_pred = model(ft(name[-1], padding = 'do_not_pad', return_tensors='pt')['input_ids']).softmax(dim = 1).squeeze(dim = 0)\n",
    "    return name"
   ]
  },
  {
   "cell_type": "code",
   "execution_count": 1731,
   "id": "b774d128",
   "metadata": {},
   "outputs": [
    {
     "name": "stdout",
     "output_type": "stream",
     "text": [
      "irish\n",
      "--------\n",
      "Gov\n",
      "Rovim\n",
      "Tuzd\n",
      "\n",
      "\n",
      "\n",
      "chinese\n",
      "--------\n",
      "Jakimanchenkelum\n",
      "kouwt\n",
      "Vy\n",
      "\n",
      "\n",
      "\n",
      "scottish\n",
      "--------\n",
      "Sharomjuzwaldoy\n",
      "Ma\n",
      "Laysov\n",
      "\n",
      "\n",
      "\n",
      "german\n",
      "--------\n",
      "Kiv\n",
      "Lettsulmamsontar\n",
      "Roblyvarirodesha\n",
      "\n",
      "\n",
      "\n",
      "russian\n",
      "--------\n",
      "Yaen\n",
      "Anovell\n",
      "Glikov\n",
      "\n",
      "\n",
      "\n",
      "greek\n",
      "--------\n",
      "Ban\n",
      "Crakhiky\n",
      "Tonimi\n",
      "\n",
      "\n",
      "\n",
      "portuguese\n",
      "--------\n",
      "YusodiUpento\n",
      "Ralh\n",
      "Jeuderieindundon\n",
      "\n",
      "\n",
      "\n",
      "korean\n",
      "--------\n",
      "Pakosamachevs\n",
      "Kiteiernai\n",
      "Lya\n",
      "\n",
      "\n",
      "\n",
      "dutch\n",
      "--------\n",
      "Kadehk\n",
      "Ja\n",
      "Zichatsogoyayakh\n",
      "\n",
      "\n",
      "\n",
      "french\n",
      "--------\n",
      "Tikontasez\n",
      "S\n",
      "ZhelikyuildoDoAn\n",
      "\n",
      "\n",
      "\n",
      "spanish\n",
      "--------\n",
      "Penyle\n",
      "Sodmatshkyar\n",
      "Zhiffercasouzo\n",
      "\n",
      "\n",
      "\n",
      "polish\n",
      "--------\n",
      "Jod\n",
      "Movarari\n",
      "Gl\n",
      "\n",
      "\n",
      "\n",
      "japanese\n",
      "--------\n",
      "ZhezorotchMuhen\n",
      "Sie\n",
      "Muchun\n",
      "\n",
      "\n",
      "\n",
      "czech\n",
      "--------\n",
      "Covomalomsihinou\n",
      "Meroto\n",
      "Chein\n",
      "\n",
      "\n",
      "\n",
      "vietnamese\n",
      "--------\n",
      "deronoky\n",
      "Yus\n",
      "Zh\n",
      "\n",
      "\n",
      "\n",
      "arabic\n",
      "--------\n",
      "Zhe\n",
      "Feropo\n",
      "Junohts\n",
      "\n",
      "\n",
      "\n",
      "italian\n",
      "--------\n",
      "Zhimanory\n",
      "Drs\n",
      "Roisalantaeri\n",
      "\n",
      "\n",
      "\n",
      "english\n",
      "--------\n",
      "Zhky\n",
      "TachehHikywakihi\n",
      "Troile\n",
      "\n",
      "\n",
      "\n"
     ]
    }
   ],
   "source": [
    "for lang in all_categories:\n",
    "    print(lang)\n",
    "    print('--------')\n",
    "    for _ in range(3):\n",
    "        print(model_inf(names_rnn,language='chinese'))\n",
    "    print('\\n\\n')"
   ]
  }
 ],
 "metadata": {
  "kernelspec": {
   "display_name": "venv-MyPython",
   "language": "python",
   "name": "python3"
  },
  "language_info": {
   "codemirror_mode": {
    "name": "ipython",
    "version": 3
   },
   "file_extension": ".py",
   "mimetype": "text/x-python",
   "name": "python",
   "nbconvert_exporter": "python",
   "pygments_lexer": "ipython3",
   "version": "3.12.3"
  }
 },
 "nbformat": 4,
 "nbformat_minor": 5
}
